{
 "cells": [
  {
   "cell_type": "code",
   "execution_count": 1,
   "metadata": {
    "collapsed": false,
    "scrolled": false
   },
   "outputs": [
    {
     "name": "stderr",
     "output_type": "stream",
     "text": [
      "/home/hobs/.virtualenvs/AgileMachineLearning/lib/python3.5/site-packages/matplotlib/__init__.py:1350: UserWarning:  This call to matplotlib.use() has no effect\n",
      "because the backend has already been chosen;\n",
      "matplotlib.use() must be called *before* pylab, matplotlib.pyplot,\n",
      "or matplotlib.backends is imported for the first time.\n",
      "\n",
      "  warnings.warn(_use_error_msg)\n"
     ]
    },
    {
     "data": {
      "text/html": [
       "<style>.container { width:100% !important; }</style>"
      ],
      "text/plain": [
       "<IPython.core.display.HTML object>"
      ]
     },
     "metadata": {},
     "output_type": "display_data"
    }
   ],
   "source": [
    "from setup import *\n",
    "import sys\n",
    "if DATA_PATH not in sys.path: sys.path.append(DATA_PATH)\n",
    "%matplotlib inline\n",
    "display(HTML(\"<style>.container { width:100% !important; }</style>\"))\n",
    "pd.set_option('display.max_rows', 4)\n",
    "pd.set_option('display.max_columns', 200)"
   ]
  },
  {
   "cell_type": "code",
   "execution_count": 4,
   "metadata": {
    "collapsed": false,
    "scrolled": true
   },
   "outputs": [
    {
     "data": {
      "text/html": [
       "<div>\n",
       "<table border=\"1\" class=\"dataframe\">\n",
       "  <thead>\n",
       "    <tr style=\"text-align: right;\">\n",
       "      <th></th>\n",
       "      <th>tf</th>\n",
       "      <th>df</th>\n",
       "    </tr>\n",
       "  </thead>\n",
       "  <tbody>\n",
       "    <tr>\n",
       "      <th>count</th>\n",
       "      <td>16039</td>\n",
       "      <td>16039</td>\n",
       "    </tr>\n",
       "    <tr>\n",
       "      <th>mean</th>\n",
       "      <td>85</td>\n",
       "      <td>78</td>\n",
       "    </tr>\n",
       "    <tr>\n",
       "      <th>...</th>\n",
       "      <td>...</td>\n",
       "      <td>...</td>\n",
       "    </tr>\n",
       "    <tr>\n",
       "      <th>75%</th>\n",
       "      <td>31</td>\n",
       "      <td>31</td>\n",
       "    </tr>\n",
       "    <tr>\n",
       "      <th>max</th>\n",
       "      <td>41983</td>\n",
       "      <td>34885</td>\n",
       "    </tr>\n",
       "  </tbody>\n",
       "</table>\n",
       "<p>8 rows × 2 columns</p>\n",
       "</div>"
      ],
      "text/plain": [
       "          tf     df\n",
       "count  16039  16039\n",
       "mean      85     78\n",
       "...      ...    ...\n",
       "75%       31     31\n",
       "max    41983  34885\n",
       "\n",
       "[8 rows x 2 columns]"
      ]
     },
     "execution_count": 4,
     "metadata": {},
     "output_type": "execute_result"
    }
   ],
   "source": [
    "tfdf = pd.read_csv(os.path.join(DATA_PATH, 'tweet_vocab.csv.gz'), index_col=0, compression='gzip',\n",
    "                   quotechar='\"', quoting=pd.io.common.csv.QUOTE_NONNUMERIC, low_memory=False)\n",
    "tfdf.describe().round().astype(int)"
   ]
  },
  {
   "cell_type": "markdown",
   "metadata": {},
   "source": [
    "If you try to allocate a 16k word by 100k document DataFrame of 64-bit integers, you'll get a memory error on a 16 GB laptop.  \n",
    "Later we'll learn about \"constant RAM\" tools that can handle an unlimitted stream of documents with a large (1M word) vocabulary. But first let's be frugal and see what we can do with robust, mature tools like Pandas.  \n",
    "Rather than cutting back on those 100k tweets, lets cut back on the words. What are all those 16k words and how often are they all used (maybe we can ignore infrequent words).  "
   ]
  },
  {
   "cell_type": "code",
   "execution_count": 5,
   "metadata": {
    "collapsed": false
   },
   "outputs": [
    {
     "data": {
      "text/plain": [
       "12.8312"
      ]
     },
     "execution_count": 5,
     "metadata": {},
     "output_type": "execute_result"
    }
   ],
   "source": [
    "GB = 8 * (100 * 1000 * len(tfdf)) / 1.e9\n",
    "GB"
   ]
  },
  {
   "cell_type": "code",
   "execution_count": 6,
   "metadata": {
    "collapsed": false
   },
   "outputs": [
    {
     "data": {
      "text/html": [
       "<div>\n",
       "<table border=\"1\" class=\"dataframe\">\n",
       "  <thead>\n",
       "    <tr style=\"text-align: right;\">\n",
       "      <th></th>\n",
       "      <th>tf</th>\n",
       "      <th>df</th>\n",
       "    </tr>\n",
       "  </thead>\n",
       "  <tbody>\n",
       "    <tr>\n",
       "      <th>0</th>\n",
       "      <td>1417</td>\n",
       "      <td>1395</td>\n",
       "    </tr>\n",
       "    <tr>\n",
       "      <th>0.0</th>\n",
       "      <td>355</td>\n",
       "      <td>354</td>\n",
       "    </tr>\n",
       "    <tr>\n",
       "      <th>...</th>\n",
       "      <td>...</td>\n",
       "      <td>...</td>\n",
       "    </tr>\n",
       "    <tr>\n",
       "      <th>zzp</th>\n",
       "      <td>14</td>\n",
       "      <td>9</td>\n",
       "    </tr>\n",
       "    <tr>\n",
       "      <th>zzrkwxgbqv</th>\n",
       "      <td>21</td>\n",
       "      <td>21</td>\n",
       "    </tr>\n",
       "  </tbody>\n",
       "</table>\n",
       "<p>16039 rows × 2 columns</p>\n",
       "</div>"
      ],
      "text/plain": [
       "              tf    df\n",
       "0           1417  1395\n",
       "0.0          355   354\n",
       "...          ...   ...\n",
       "zzp           14     9\n",
       "zzrkwxgbqv    21    21\n",
       "\n",
       "[16039 rows x 2 columns]"
      ]
     },
     "execution_count": 6,
     "metadata": {},
     "output_type": "execute_result"
    }
   ],
   "source": [
    "tfdf"
   ]
  },
  {
   "cell_type": "markdown",
   "metadata": {},
   "source": [
    "Fortunately the odd words are at the top and bottom of an alphabetical index!  \n",
    "And it does look like the less useful tokens aren't used many times or in many documents.  \n",
    "What do you notice that might help distinguish \"natural\" words (zoom, zoos, zope, zynga) from URLs and machine-code (000, zzp, zsl107)?  "
   ]
  },
  {
   "cell_type": "code",
   "execution_count": 7,
   "metadata": {
    "collapsed": false
   },
   "outputs": [
    {
     "data": {
      "text/html": [
       "<div>\n",
       "<table border=\"1\" class=\"dataframe\">\n",
       "  <thead>\n",
       "    <tr style=\"text-align: right;\">\n",
       "      <th></th>\n",
       "      <th>tf</th>\n",
       "      <th>df</th>\n",
       "    </tr>\n",
       "  </thead>\n",
       "  <tbody>\n",
       "    <tr>\n",
       "      <th>0</th>\n",
       "      <td>1417</td>\n",
       "      <td>1395</td>\n",
       "    </tr>\n",
       "    <tr>\n",
       "      <th>0.0</th>\n",
       "      <td>355</td>\n",
       "      <td>354</td>\n",
       "    </tr>\n",
       "    <tr>\n",
       "      <th>...</th>\n",
       "      <td>...</td>\n",
       "      <td>...</td>\n",
       "    </tr>\n",
       "    <tr>\n",
       "      <th>zy0nsstslv</th>\n",
       "      <td>27</td>\n",
       "      <td>27</td>\n",
       "    </tr>\n",
       "    <tr>\n",
       "      <th>zzrkwxgbqv</th>\n",
       "      <td>21</td>\n",
       "      <td>21</td>\n",
       "    </tr>\n",
       "  </tbody>\n",
       "</table>\n",
       "<p>5391 rows × 2 columns</p>\n",
       "</div>"
      ],
      "text/plain": [
       "              tf    df\n",
       "0           1417  1395\n",
       "0.0          355   354\n",
       "...          ...   ...\n",
       "zy0nsstslv    27    27\n",
       "zzrkwxgbqv    21    21\n",
       "\n",
       "[5391 rows x 2 columns]"
      ]
     },
     "execution_count": 7,
     "metadata": {},
     "output_type": "execute_result"
    }
   ],
   "source": [
    "tfdf = tfdf[tfdf.df > 9]\n",
    "tfdf = tfdf[(tfdf.df > 9) & (((tfdf.df - tfdf.tf) / tfdf.tf) < 0.15)]\n",
    "tfdf = tfdf[(tfdf.df > 20) & (((tfdf.df - tfdf.tf) / tfdf.tf) < 0.15)]\n",
    "tfdf"
   ]
  },
  {
   "cell_type": "code",
   "execution_count": 8,
   "metadata": {
    "collapsed": false
   },
   "outputs": [
    {
     "ename": "SyntaxError",
     "evalue": "invalid syntax (<ipython-input-8-2a632d3ab850>, line 1)",
     "output_type": "error",
     "traceback": [
      "\u001b[0;36m  File \u001b[0;32m\"<ipython-input-8-2a632d3ab850>\"\u001b[0;36m, line \u001b[0;32m1\u001b[0m\n\u001b[0;31m    Numpy arrays (guts of Pandas DataFrame) require 8 bytes for each double-precision value (int64)\u001b[0m\n\u001b[0m               ^\u001b[0m\n\u001b[0;31mSyntaxError\u001b[0m\u001b[0;31m:\u001b[0m invalid syntax\n"
     ]
    }
   ],
   "source": [
    "Numpy arrays (guts of Pandas DataFrame) require 8 bytes for each double-precision value (int64)"
   ]
  },
  {
   "cell_type": "code",
   "execution_count": 9,
   "metadata": {
    "collapsed": false
   },
   "outputs": [
    {
     "data": {
      "text/plain": [
       "4.3128"
      ]
     },
     "execution_count": 9,
     "metadata": {},
     "output_type": "execute_result"
    }
   ],
   "source": [
    "GB = 8 * (100 * 1000 * len(tfdf)) / 1.e9\n",
    "GB"
   ]
  },
  {
   "cell_type": "markdown",
   "metadata": {},
   "source": [
    "Memory requirements (4 GB) are doable  \n",
    "But we've lost important words: **\"zoom\"**  \n",
    "And there's still a bit of garbage: **\"zh3gs0wbno\"**  \n",
    "These look like keys, slugs, hashes or URLs  \n",
    "Even though the tweets.json format includes a column for URLs  \n",
    "The URLs are left within the raw text as well  \n",
    "Let's use a formal but simple grammar engine:\n",
    "\n",
    "## Extended regular expressions "
   ]
  },
  {
   "cell_type": "code",
   "execution_count": 10,
   "metadata": {
    "collapsed": false
   },
   "outputs": [
    {
     "data": {
      "text/plain": [
       "0      ms-secondary-screen-controller\n",
       "1      ms-settings-connectabledevices\n",
       "2       ms-settings-displays-topology\n",
       "3        ms-settings-emailandaccounts\n",
       "4         ms-settings-nfctransactions\n",
       "5          ms-settings-screenrotation\n",
       "6           ms-secondary-screen-setup\n",
       "                    ...              \n",
       "237                                aw\n",
       "238                                gg\n",
       "239                                go\n",
       "240                                im\n",
       "241                                ni\n",
       "242                                tv\n",
       "243                                ws\n",
       "dtype: object"
      ]
     },
     "execution_count": 10,
     "metadata": {},
     "output_type": "execute_result"
    }
   ],
   "source": [
    "url_scheme_popular = r'(\\b(' + '|'.join(uri_schemes_popular) + r')[:][/]{2})'\n",
    "fqdn_popular = r'(\\b[a-zA-Z0-9-.]+\\b([.]' + r'|'.join(tld_popular) + r'\\b)\\b)'\n",
    "url_path = r'(\\b[\\w/?=+#-_&%~\\'\"\\\\.,]*\\b)'\n",
    "\n",
    "pd.set_option('display.max_rows', 14)\n",
    "pd.Series(uri_schemes_iana)\n"
   ]
  },
  {
   "cell_type": "code",
   "execution_count": 11,
   "metadata": {
    "collapsed": false
   },
   "outputs": [
    {
     "data": {
      "text/plain": [
       "[('http://totalgood.com/a/b?c=42',\n",
       "  'http',\n",
       "  'totalgood.com',\n",
       "  '.com',\n",
       "  '/a/b?c=42'),\n",
       " ('svn://us.gov', 'svn', 'us.gov', 'gov', '')]"
      ]
     },
     "execution_count": 11,
     "metadata": {},
     "output_type": "execute_result"
    }
   ],
   "source": [
    "url_popular = r'(\\b' + r'(http|https|svn|git|apt)[:]//' + fqdn_popular + url_path + r'\\b)'\n",
    "tweet = \"Play the [postiive sum game](http://totalgood.com/a/b?c=42) of life instead of svn://us.gov.\"\n",
    "import re\n",
    "re.findall(url_popular, tweet)"
   ]
  },
  {
   "cell_type": "code",
   "execution_count": 12,
   "metadata": {
    "collapsed": false
   },
   "outputs": [],
   "source": [
    "# email = re.compile(r'^([\\w-]+(?:\\.[\\w-]+)*)@((?:[\\w-]+\\.)*\\w[\\w-]{0,66})\\.([a-z]{2,6}(?:\\.[a-z]{2})?)')\n",
    "fqdn = r'(\\b[a-zA-Z0-9-.]+([.]' + r'|'.join(tld_iana) + r')\\b)'\n",
    "fqdn_popular = r'(\\b[a-zA-Z0-9-.]+\\b([.]' + r'|'.join(tld_popular) + r'\\b)\\b)'\n",
    "username = r'(\\b[a-zA-Z0-9-.!#$%&*+-/=?^_`{|}~]+\\b)'\n",
    "\n",
    "email = re.compile(r'(\\b' + username + r'\\b@\\b' + fqdn + r'\\b)')\n",
    "email_popular = re.compile(r'(\\b' + username + r'\\b@\\b' + fqdn_popular + r'\\b)')\n",
    "\n",
    "# TODO: unmatched surrounding symbols are accepted/consumed, likewise for multiple dots/ats\n",
    "at = r'(([-@=\"_(\\[{\\|\\s]+(at|At|AT)[-@=\"_)\\]\\}\\|\\s]+)|[@])'\n",
    "dot = r'(([-.=\"_(\\[{\\|\\s]+(dot|dt|Dot|DOT)[-.=\"_)\\]\\}\\|\\s]+)|[.])'\n",
    "fqdn_obfuscated = r'(\\b(([a-zA-Z0-9-]+' + dot + r'){1,7})(' + r'|'.join(tld_iana) + r')\\b)'\n",
    "fqdn_popular_obfuscated = r'(\\b(([a-zA-Z0-9-]+' + dot + r'){1,7})(' + r'|'.join(tld_popular) + r')\\b)'\n",
    "username_obfuscated = r'(([a-zA-Z0-9!#$%&*+/?^`~]+' + dot + r'?){1,7})'\n",
    "email_obfuscated = re.compile(r'(\\b' + username_obfuscated + at + fqdn_obfuscated + r'\\b)')\n",
    "email_popular_obfuscated = re.compile(r'(\\b' + username_obfuscated + at + fqdn_popular_obfuscated + r'\\b)')\n",
    "\n",
    "url_path = r'(\\b[^\\s]+)'\n",
    "url_scheme = r'(\\b(' + '|'.join(uri_schemes_iana) + r')[:][/]{2})'\n",
    "url_scheme_popular = r'(\\b(' + '|'.join(uri_schemes_popular) + r')[:][/]{2})'\n",
    "url = r'(\\b' + url_scheme + fqdn + url_path + r'?\\b)'"
   ]
  },
  {
   "cell_type": "code",
   "execution_count": null,
   "metadata": {
    "collapsed": true
   },
   "outputs": [],
   "source": []
  }
 ],
 "metadata": {
  "kernelspec": {
   "display_name": "Python 3",
   "language": "python",
   "name": "python3"
  },
  "language_info": {
   "codemirror_mode": {
    "name": "ipython",
    "version": 3
   },
   "file_extension": ".py",
   "mimetype": "text/x-python",
   "name": "python",
   "nbconvert_exporter": "python",
   "pygments_lexer": "ipython3",
   "version": "3.5.1+"
  }
 },
 "nbformat": 4,
 "nbformat_minor": 0
}
