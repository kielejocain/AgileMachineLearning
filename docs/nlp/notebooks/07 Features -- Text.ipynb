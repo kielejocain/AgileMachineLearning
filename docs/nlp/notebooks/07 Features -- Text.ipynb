{
 "cells": [
  {
   "cell_type": "code",
   "execution_count": 1,
   "metadata": {
    "collapsed": false
   },
   "outputs": [
    {
     "name": "stderr",
     "output_type": "stream",
     "text": [
      "/home/hobs/.virtualenvs/AgileMachineLearning/lib/python3.5/site-packages/matplotlib/__init__.py:1350: UserWarning:  This call to matplotlib.use() has no effect\n",
      "because the backend has already been chosen;\n",
      "matplotlib.use() must be called *before* pylab, matplotlib.pyplot,\n",
      "or matplotlib.backends is imported for the first time.\n",
      "\n",
      "  warnings.warn(_use_error_msg)\n"
     ]
    },
    {
     "data": {
      "text/html": [
       "<style>.container { width:100% !important; }</style>"
      ],
      "text/plain": [
       "<IPython.core.display.HTML object>"
      ]
     },
     "metadata": {},
     "output_type": "display_data"
    }
   ],
   "source": [
    "from setup import *\n",
    "import sys\n",
    "if DATA_PATH not in sys.path: sys.path.append(DATA_PATH)\n",
    "from constants import *\n",
    "\n",
    "%matplotlib inline\n",
    "display(HTML(\"<style>.container { width:100% !important; }</style>\"))\n",
    "pd.set_option('display.max_rows', 12)\n",
    "pd.set_option('display.max_columns', 200)"
   ]
  },
  {
   "cell_type": "code",
   "execution_count": 2,
   "metadata": {
    "collapsed": false
   },
   "outputs": [],
   "source": [
    "df = pd.read_csv(os.path.join(DATA_PATH, 'deduped_tweets.csv.gz'), low_memory=False)"
   ]
  },
  {
   "cell_type": "code",
   "execution_count": 3,
   "metadata": {
    "collapsed": false
   },
   "outputs": [
    {
     "data": {
      "text/plain": [
       "0"
      ]
     },
     "execution_count": 3,
     "metadata": {},
     "output_type": "execute_result"
    }
   ],
   "source": [
    "df = df.drop_duplicates('id', keep='last')[['id', 'id_str', 'text']]\n",
    "df.id == df.id_str\n",
    "(df.id != df.id_str).sum()"
   ]
  },
  {
   "cell_type": "code",
   "execution_count": 4,
   "metadata": {
    "collapsed": true
   },
   "outputs": [],
   "source": [
    "df = df[['id', 'text']]"
   ]
  },
  {
   "cell_type": "code",
   "execution_count": 5,
   "metadata": {
    "collapsed": false
   },
   "outputs": [
    {
     "data": {
      "text/plain": [
       "0         #python never stop learning what you enjoy doi...\n",
       "1         Watching Boa vs. Python — https://t.co/Pivpk02s2A\n",
       "2         Monty Python - The silly walk https://t.co/C0J...\n",
       "3         Senior Software Engineer Full Stack Python Dja...\n",
       "4         Architect Django Solr Platform Engineer With P...\n",
       "5                     peaceful rain? Python - inevitability\n",
       "                                ...                        \n",
       "183064    Las 3 mejores ides para Python Antes de empeza...\n",
       "183065    Gagal tidur gegara habis vertical limit ada fi...\n",
       "183066    Go boa wkwk💪😄 ★ Boa vs. Python — https://t.co/...\n",
       "183067    RT @RealPython: List of Python API Wrappers &g...\n",
       "183068    Watching Boa vs. Python — https://t.co/5THbrirfQO\n",
       "183069    Чертова дюжина вакансий в IT и Digital /  / 1....\n",
       "Name: text, dtype: object"
      ]
     },
     "execution_count": 5,
     "metadata": {},
     "output_type": "execute_result"
    }
   ],
   "source": [
    "df.text"
   ]
  },
  {
   "cell_type": "code",
   "execution_count": 6,
   "metadata": {
    "collapsed": false
   },
   "outputs": [
    {
     "data": {
      "text/html": [
       "<div>\n",
       "<table border=\"1\" class=\"dataframe\">\n",
       "  <thead>\n",
       "    <tr style=\"text-align: right;\">\n",
       "      <th></th>\n",
       "      <th>id</th>\n",
       "      <th>text</th>\n",
       "      <th>tokens</th>\n",
       "    </tr>\n",
       "  </thead>\n",
       "  <tbody>\n",
       "    <tr>\n",
       "      <th>0</th>\n",
       "      <td>724276510626979840</td>\n",
       "      <td>#python never stop learning what you enjoy doi...</td>\n",
       "      <td>[#python, never, stop, learning, what, you, en...</td>\n",
       "    </tr>\n",
       "    <tr>\n",
       "      <th>1</th>\n",
       "      <td>724276498249572352</td>\n",
       "      <td>Watching Boa vs. Python — https://t.co/Pivpk02s2A</td>\n",
       "      <td>[Watching, Boa, vs., Python, —, https://t.co/P...</td>\n",
       "    </tr>\n",
       "    <tr>\n",
       "      <th>2</th>\n",
       "      <td>724276388325412866</td>\n",
       "      <td>Monty Python - The silly walk https://t.co/C0J...</td>\n",
       "      <td>[Monty, Python, -, The, silly, walk, https://t...</td>\n",
       "    </tr>\n",
       "    <tr>\n",
       "      <th>3</th>\n",
       "      <td>725078887005347840</td>\n",
       "      <td>Senior Software Engineer Full Stack Python Dja...</td>\n",
       "      <td>[Senior, Software, Engineer, Full, Stack, Pyth...</td>\n",
       "    </tr>\n",
       "    <tr>\n",
       "      <th>4</th>\n",
       "      <td>725078874338541572</td>\n",
       "      <td>Architect Django Solr Platform Engineer With P...</td>\n",
       "      <td>[Architect, Django, Solr, Platform, Engineer, ...</td>\n",
       "    </tr>\n",
       "    <tr>\n",
       "      <th>5</th>\n",
       "      <td>725078868802068481</td>\n",
       "      <td>peaceful rain? Python - inevitability</td>\n",
       "      <td>[peaceful, rain?, Python, -, inevitability]</td>\n",
       "    </tr>\n",
       "    <tr>\n",
       "      <th>...</th>\n",
       "      <td>...</td>\n",
       "      <td>...</td>\n",
       "      <td>...</td>\n",
       "    </tr>\n",
       "    <tr>\n",
       "      <th>183064</th>\n",
       "      <td>724275847591546880</td>\n",
       "      <td>Las 3 mejores ides para Python Antes de empeza...</td>\n",
       "      <td>[Las, 3, mejores, ides, para, Python, Antes, d...</td>\n",
       "    </tr>\n",
       "    <tr>\n",
       "      <th>183065</th>\n",
       "      <td>724275810777985026</td>\n",
       "      <td>Gagal tidur gegara habis vertical limit ada fi...</td>\n",
       "      <td>[Gagal, tidur, gegara, habis, vertical, limit,...</td>\n",
       "    </tr>\n",
       "    <tr>\n",
       "      <th>183066</th>\n",
       "      <td>724275650043875328</td>\n",
       "      <td>Go boa wkwk💪😄 ★ Boa vs. Python — https://t.co/...</td>\n",
       "      <td>[Go, boa, wkwk💪😄, ★, Boa, vs., Python, —, http...</td>\n",
       "    </tr>\n",
       "    <tr>\n",
       "      <th>183067</th>\n",
       "      <td>724275609858392066</td>\n",
       "      <td>RT @RealPython: List of Python API Wrappers &amp;g...</td>\n",
       "      <td>[RT, @RealPython:, List, of, Python, API, Wrap...</td>\n",
       "    </tr>\n",
       "    <tr>\n",
       "      <th>183068</th>\n",
       "      <td>724275578879111169</td>\n",
       "      <td>Watching Boa vs. Python — https://t.co/5THbrirfQO</td>\n",
       "      <td>[Watching, Boa, vs., Python, —, https://t.co/5...</td>\n",
       "    </tr>\n",
       "    <tr>\n",
       "      <th>183069</th>\n",
       "      <td>724275568871673857</td>\n",
       "      <td>Чертова дюжина вакансий в IT и Digital /  / 1....</td>\n",
       "      <td>[Чертова, дюжина, вакансий, в, IT, и, Digital,...</td>\n",
       "    </tr>\n",
       "  </tbody>\n",
       "</table>\n",
       "<p>183070 rows × 3 columns</p>\n",
       "</div>"
      ],
      "text/plain": [
       "                        id                                               text  \\\n",
       "0       724276510626979840  #python never stop learning what you enjoy doi...   \n",
       "1       724276498249572352  Watching Boa vs. Python — https://t.co/Pivpk02s2A   \n",
       "2       724276388325412866  Monty Python - The silly walk https://t.co/C0J...   \n",
       "3       725078887005347840  Senior Software Engineer Full Stack Python Dja...   \n",
       "4       725078874338541572  Architect Django Solr Platform Engineer With P...   \n",
       "5       725078868802068481              peaceful rain? Python - inevitability   \n",
       "...                    ...                                                ...   \n",
       "183064  724275847591546880  Las 3 mejores ides para Python Antes de empeza...   \n",
       "183065  724275810777985026  Gagal tidur gegara habis vertical limit ada fi...   \n",
       "183066  724275650043875328  Go boa wkwk💪😄 ★ Boa vs. Python — https://t.co/...   \n",
       "183067  724275609858392066  RT @RealPython: List of Python API Wrappers &g...   \n",
       "183068  724275578879111169  Watching Boa vs. Python — https://t.co/5THbrirfQO   \n",
       "183069  724275568871673857  Чертова дюжина вакансий в IT и Digital /  / 1....   \n",
       "\n",
       "                                                   tokens  \n",
       "0       [#python, never, stop, learning, what, you, en...  \n",
       "1       [Watching, Boa, vs., Python, —, https://t.co/P...  \n",
       "2       [Monty, Python, -, The, silly, walk, https://t...  \n",
       "3       [Senior, Software, Engineer, Full, Stack, Pyth...  \n",
       "4       [Architect, Django, Solr, Platform, Engineer, ...  \n",
       "5             [peaceful, rain?, Python, -, inevitability]  \n",
       "...                                                   ...  \n",
       "183064  [Las, 3, mejores, ides, para, Python, Antes, d...  \n",
       "183065  [Gagal, tidur, gegara, habis, vertical, limit,...  \n",
       "183066  [Go, boa, wkwk💪😄, ★, Boa, vs., Python, —, http...  \n",
       "183067  [RT, @RealPython:, List, of, Python, API, Wrap...  \n",
       "183068  [Watching, Boa, vs., Python, —, https://t.co/5...  \n",
       "183069  [Чертова, дюжина, вакансий, в, IT, и, Digital,...  \n",
       "\n",
       "[183070 rows x 3 columns]"
      ]
     },
     "execution_count": 6,
     "metadata": {},
     "output_type": "execute_result"
    }
   ],
   "source": [
    "df['tokens'] = df.text.str.split()\n",
    "df"
   ]
  },
  {
   "cell_type": "code",
   "execution_count": 7,
   "metadata": {
    "collapsed": false
   },
   "outputs": [
    {
     "data": {
      "text/html": [
       "<div>\n",
       "<table border=\"1\" class=\"dataframe\">\n",
       "  <thead>\n",
       "    <tr style=\"text-align: right;\">\n",
       "      <th></th>\n",
       "      <th>id</th>\n",
       "      <th>text</th>\n",
       "      <th>tokens</th>\n",
       "    </tr>\n",
       "  </thead>\n",
       "  <tbody>\n",
       "    <tr>\n",
       "      <th>0</th>\n",
       "      <td>724276510626979840</td>\n",
       "      <td>#python never stop learning what you enjoy doi...</td>\n",
       "      <td>[#python, never, stop, learning, what, you, en...</td>\n",
       "    </tr>\n",
       "    <tr>\n",
       "      <th>1</th>\n",
       "      <td>724276498249572352</td>\n",
       "      <td>Watching Boa vs. Python — https://t.co/Pivpk02s2A</td>\n",
       "      <td>[Watching, Boa, vs., Python, —]</td>\n",
       "    </tr>\n",
       "    <tr>\n",
       "      <th>2</th>\n",
       "      <td>724276388325412866</td>\n",
       "      <td>Monty Python - The silly walk https://t.co/C0J...</td>\n",
       "      <td>[Monty, Python, -, The, silly, walk, via, @You...</td>\n",
       "    </tr>\n",
       "    <tr>\n",
       "      <th>3</th>\n",
       "      <td>725078887005347840</td>\n",
       "      <td>Senior Software Engineer Full Stack Python Dja...</td>\n",
       "      <td>[Senior, Software, Engineer, Full, Stack, Pyth...</td>\n",
       "    </tr>\n",
       "    <tr>\n",
       "      <th>4</th>\n",
       "      <td>725078874338541572</td>\n",
       "      <td>Architect Django Solr Platform Engineer With P...</td>\n",
       "      <td>[Architect, Django, Solr, Platform, Engineer, ...</td>\n",
       "    </tr>\n",
       "    <tr>\n",
       "      <th>5</th>\n",
       "      <td>725078868802068481</td>\n",
       "      <td>peaceful rain? Python - inevitability</td>\n",
       "      <td>[peaceful, rain?, Python, -, inevitability]</td>\n",
       "    </tr>\n",
       "    <tr>\n",
       "      <th>...</th>\n",
       "      <td>...</td>\n",
       "      <td>...</td>\n",
       "      <td>...</td>\n",
       "    </tr>\n",
       "    <tr>\n",
       "      <th>183064</th>\n",
       "      <td>724275847591546880</td>\n",
       "      <td>Las 3 mejores ides para Python Antes de empeza...</td>\n",
       "      <td>[Las, 3, mejores, ides, para, Python, Antes, d...</td>\n",
       "    </tr>\n",
       "    <tr>\n",
       "      <th>183065</th>\n",
       "      <td>724275810777985026</td>\n",
       "      <td>Gagal tidur gegara habis vertical limit ada fi...</td>\n",
       "      <td>[Gagal, tidur, gegara, habis, vertical, limit,...</td>\n",
       "    </tr>\n",
       "    <tr>\n",
       "      <th>183066</th>\n",
       "      <td>724275650043875328</td>\n",
       "      <td>Go boa wkwk💪😄 ★ Boa vs. Python — https://t.co/...</td>\n",
       "      <td>[Go, boa, wkwk💪😄, ★, Boa, vs., Python, —]</td>\n",
       "    </tr>\n",
       "    <tr>\n",
       "      <th>183067</th>\n",
       "      <td>724275609858392066</td>\n",
       "      <td>RT @RealPython: List of Python API Wrappers &amp;g...</td>\n",
       "      <td>[RT, @RealPython:, List, of, Python, API, Wrap...</td>\n",
       "    </tr>\n",
       "    <tr>\n",
       "      <th>183068</th>\n",
       "      <td>724275578879111169</td>\n",
       "      <td>Watching Boa vs. Python — https://t.co/5THbrirfQO</td>\n",
       "      <td>[Watching, Boa, vs., Python, —]</td>\n",
       "    </tr>\n",
       "    <tr>\n",
       "      <th>183069</th>\n",
       "      <td>724275568871673857</td>\n",
       "      <td>Чертова дюжина вакансий в IT и Digital /  / 1....</td>\n",
       "      <td>[Чертова, дюжина, вакансий, в, IT, и, Digital,...</td>\n",
       "    </tr>\n",
       "  </tbody>\n",
       "</table>\n",
       "<p>183070 rows × 3 columns</p>\n",
       "</div>"
      ],
      "text/plain": [
       "                        id                                               text  \\\n",
       "0       724276510626979840  #python never stop learning what you enjoy doi...   \n",
       "1       724276498249572352  Watching Boa vs. Python — https://t.co/Pivpk02s2A   \n",
       "2       724276388325412866  Monty Python - The silly walk https://t.co/C0J...   \n",
       "3       725078887005347840  Senior Software Engineer Full Stack Python Dja...   \n",
       "4       725078874338541572  Architect Django Solr Platform Engineer With P...   \n",
       "5       725078868802068481              peaceful rain? Python - inevitability   \n",
       "...                    ...                                                ...   \n",
       "183064  724275847591546880  Las 3 mejores ides para Python Antes de empeza...   \n",
       "183065  724275810777985026  Gagal tidur gegara habis vertical limit ada fi...   \n",
       "183066  724275650043875328  Go boa wkwk💪😄 ★ Boa vs. Python — https://t.co/...   \n",
       "183067  724275609858392066  RT @RealPython: List of Python API Wrappers &g...   \n",
       "183068  724275578879111169  Watching Boa vs. Python — https://t.co/5THbrirfQO   \n",
       "183069  724275568871673857  Чертова дюжина вакансий в IT и Digital /  / 1....   \n",
       "\n",
       "                                                   tokens  \n",
       "0       [#python, never, stop, learning, what, you, en...  \n",
       "1                         [Watching, Boa, vs., Python, —]  \n",
       "2       [Monty, Python, -, The, silly, walk, via, @You...  \n",
       "3       [Senior, Software, Engineer, Full, Stack, Pyth...  \n",
       "4       [Architect, Django, Solr, Platform, Engineer, ...  \n",
       "5             [peaceful, rain?, Python, -, inevitability]  \n",
       "...                                                   ...  \n",
       "183064  [Las, 3, mejores, ides, para, Python, Antes, d...  \n",
       "183065  [Gagal, tidur, gegara, habis, vertical, limit,...  \n",
       "183066          [Go, boa, wkwk💪😄, ★, Boa, vs., Python, —]  \n",
       "183067  [RT, @RealPython:, List, of, Python, API, Wrap...  \n",
       "183068                    [Watching, Boa, vs., Python, —]  \n",
       "183069  [Чертова, дюжина, вакансий, в, IT, и, Digital,...  \n",
       "\n",
       "[183070 rows x 3 columns]"
      ]
     },
     "execution_count": 7,
     "metadata": {},
     "output_type": "execute_result"
    }
   ],
   "source": [
    "df['tokens'] = df.text.str.replace(url, '').str.split()\n",
    "df"
   ]
  },
  {
   "cell_type": "code",
   "execution_count": 8,
   "metadata": {
    "collapsed": false
   },
   "outputs": [
    {
     "data": {
      "text/plain": [
       "0          python never stop learning what you enjoy doing \n",
       "1                                   Watching Boa vs Python \n",
       "2                   Monty Python The silly walk via YouTube\n",
       "3         Senior Software Engineer Full Stack Python Dja...\n",
       "4         Architect Django Solr Platform Engineer With P...\n",
       "5                        peaceful rain Python inevitability\n",
       "                                ...                        \n",
       "183064    Las 3 mejores ides para Python Antes de empeza...\n",
       "183065    Gagal tidur gegara habis vertical limit ada fi...\n",
       "183066                           Go boa wkwk Boa vs Python \n",
       "183067    RT RealPython List of Python API Wrappers gt g...\n",
       "183068                              Watching Boa vs Python \n",
       "183069    Чертова дюжина вакансий в IT и Digital 1 Go ра...\n",
       "Name: txt, dtype: object"
      ]
     },
     "execution_count": 8,
     "metadata": {},
     "output_type": "execute_result"
    }
   ],
   "source": [
    "df['txt'] = df.text.str.replace(url, ' ').str.replace(r'\\W+', ' ').str.replace(r'\\s+', ' ')\n",
    "df.txt"
   ]
  },
  {
   "cell_type": "code",
   "execution_count": 9,
   "metadata": {
    "collapsed": false
   },
   "outputs": [
    {
     "data": {
      "text/html": [
       "<div>\n",
       "<table border=\"1\" class=\"dataframe\">\n",
       "  <thead>\n",
       "    <tr style=\"text-align: right;\">\n",
       "      <th></th>\n",
       "      <th>id</th>\n",
       "      <th>text</th>\n",
       "      <th>tokens</th>\n",
       "      <th>txt</th>\n",
       "    </tr>\n",
       "  </thead>\n",
       "  <tbody>\n",
       "    <tr>\n",
       "      <th>0</th>\n",
       "      <td>724276510626979840</td>\n",
       "      <td>#python never stop learning what you enjoy doi...</td>\n",
       "      <td>[python, never, stop, learning, what, you, enj...</td>\n",
       "      <td>python never stop learning what you enjoy doing</td>\n",
       "    </tr>\n",
       "    <tr>\n",
       "      <th>1</th>\n",
       "      <td>724276498249572352</td>\n",
       "      <td>Watching Boa vs. Python — https://t.co/Pivpk02s2A</td>\n",
       "      <td>[Watching, Boa, vs, Python]</td>\n",
       "      <td>Watching Boa vs Python</td>\n",
       "    </tr>\n",
       "    <tr>\n",
       "      <th>2</th>\n",
       "      <td>724276388325412866</td>\n",
       "      <td>Monty Python - The silly walk https://t.co/C0J...</td>\n",
       "      <td>[Monty, Python, The, silly, walk, via, YouTube]</td>\n",
       "      <td>Monty Python The silly walk via YouTube</td>\n",
       "    </tr>\n",
       "    <tr>\n",
       "      <th>3</th>\n",
       "      <td>725078887005347840</td>\n",
       "      <td>Senior Software Engineer Full Stack Python Dja...</td>\n",
       "      <td>[Senior, Software, Engineer, Full, Stack, Pyth...</td>\n",
       "      <td>Senior Software Engineer Full Stack Python Dja...</td>\n",
       "    </tr>\n",
       "    <tr>\n",
       "      <th>4</th>\n",
       "      <td>725078874338541572</td>\n",
       "      <td>Architect Django Solr Platform Engineer With P...</td>\n",
       "      <td>[Architect, Django, Solr, Platform, Engineer, ...</td>\n",
       "      <td>Architect Django Solr Platform Engineer With P...</td>\n",
       "    </tr>\n",
       "    <tr>\n",
       "      <th>5</th>\n",
       "      <td>725078868802068481</td>\n",
       "      <td>peaceful rain? Python - inevitability</td>\n",
       "      <td>[peaceful, rain, Python, inevitability]</td>\n",
       "      <td>peaceful rain Python inevitability</td>\n",
       "    </tr>\n",
       "    <tr>\n",
       "      <th>...</th>\n",
       "      <td>...</td>\n",
       "      <td>...</td>\n",
       "      <td>...</td>\n",
       "      <td>...</td>\n",
       "    </tr>\n",
       "    <tr>\n",
       "      <th>183064</th>\n",
       "      <td>724275847591546880</td>\n",
       "      <td>Las 3 mejores ides para Python Antes de empeza...</td>\n",
       "      <td>[Las, mejores, ides, para, Python, Antes, de, ...</td>\n",
       "      <td>Las mejores ides para Python Antes de empezar ...</td>\n",
       "    </tr>\n",
       "    <tr>\n",
       "      <th>183065</th>\n",
       "      <td>724275810777985026</td>\n",
       "      <td>Gagal tidur gegara habis vertical limit ada fi...</td>\n",
       "      <td>[Gagal, tidur, gegara, habis, vertical, limit,...</td>\n",
       "      <td>Gagal tidur gegara habis vertical limit ada fi...</td>\n",
       "    </tr>\n",
       "    <tr>\n",
       "      <th>183066</th>\n",
       "      <td>724275650043875328</td>\n",
       "      <td>Go boa wkwk💪😄 ★ Boa vs. Python — https://t.co/...</td>\n",
       "      <td>[Go, boa, wkwk, Boa, vs, Python]</td>\n",
       "      <td>Go boa wkwk Boa vs Python</td>\n",
       "    </tr>\n",
       "    <tr>\n",
       "      <th>183067</th>\n",
       "      <td>724275609858392066</td>\n",
       "      <td>RT @RealPython: List of Python API Wrappers &amp;g...</td>\n",
       "      <td>[RT, RealPython, List, of, Python, API, Wrappe...</td>\n",
       "      <td>RT RealPython List of Python API Wrappers gt g...</td>\n",
       "    </tr>\n",
       "    <tr>\n",
       "      <th>183068</th>\n",
       "      <td>724275578879111169</td>\n",
       "      <td>Watching Boa vs. Python — https://t.co/5THbrirfQO</td>\n",
       "      <td>[Watching, Boa, vs, Python]</td>\n",
       "      <td>Watching Boa vs Python</td>\n",
       "    </tr>\n",
       "    <tr>\n",
       "      <th>183069</th>\n",
       "      <td>724275568871673857</td>\n",
       "      <td>Чертова дюжина вакансий в IT и Digital /  / 1....</td>\n",
       "      <td>[Чертова, дюжина, вакансий, в, IT, и, Digital,...</td>\n",
       "      <td>Чертова дюжина вакансий в IT и Digital Go разр...</td>\n",
       "    </tr>\n",
       "  </tbody>\n",
       "</table>\n",
       "<p>183070 rows × 4 columns</p>\n",
       "</div>"
      ],
      "text/plain": [
       "                        id                                               text  \\\n",
       "0       724276510626979840  #python never stop learning what you enjoy doi...   \n",
       "1       724276498249572352  Watching Boa vs. Python — https://t.co/Pivpk02s2A   \n",
       "2       724276388325412866  Monty Python - The silly walk https://t.co/C0J...   \n",
       "3       725078887005347840  Senior Software Engineer Full Stack Python Dja...   \n",
       "4       725078874338541572  Architect Django Solr Platform Engineer With P...   \n",
       "5       725078868802068481              peaceful rain? Python - inevitability   \n",
       "...                    ...                                                ...   \n",
       "183064  724275847591546880  Las 3 mejores ides para Python Antes de empeza...   \n",
       "183065  724275810777985026  Gagal tidur gegara habis vertical limit ada fi...   \n",
       "183066  724275650043875328  Go boa wkwk💪😄 ★ Boa vs. Python — https://t.co/...   \n",
       "183067  724275609858392066  RT @RealPython: List of Python API Wrappers &g...   \n",
       "183068  724275578879111169  Watching Boa vs. Python — https://t.co/5THbrirfQO   \n",
       "183069  724275568871673857  Чертова дюжина вакансий в IT и Digital /  / 1....   \n",
       "\n",
       "                                                   tokens  \\\n",
       "0       [python, never, stop, learning, what, you, enj...   \n",
       "1                             [Watching, Boa, vs, Python]   \n",
       "2         [Monty, Python, The, silly, walk, via, YouTube]   \n",
       "3       [Senior, Software, Engineer, Full, Stack, Pyth...   \n",
       "4       [Architect, Django, Solr, Platform, Engineer, ...   \n",
       "5                 [peaceful, rain, Python, inevitability]   \n",
       "...                                                   ...   \n",
       "183064  [Las, mejores, ides, para, Python, Antes, de, ...   \n",
       "183065  [Gagal, tidur, gegara, habis, vertical, limit,...   \n",
       "183066                   [Go, boa, wkwk, Boa, vs, Python]   \n",
       "183067  [RT, RealPython, List, of, Python, API, Wrappe...   \n",
       "183068                        [Watching, Boa, vs, Python]   \n",
       "183069  [Чертова, дюжина, вакансий, в, IT, и, Digital,...   \n",
       "\n",
       "                                                      txt  \n",
       "0        python never stop learning what you enjoy doing   \n",
       "1                                 Watching Boa vs Python   \n",
       "2                 Monty Python The silly walk via YouTube  \n",
       "3       Senior Software Engineer Full Stack Python Dja...  \n",
       "4       Architect Django Solr Platform Engineer With P...  \n",
       "5                      peaceful rain Python inevitability  \n",
       "...                                                   ...  \n",
       "183064  Las mejores ides para Python Antes de empezar ...  \n",
       "183065  Gagal tidur gegara habis vertical limit ada fi...  \n",
       "183066                         Go boa wkwk Boa vs Python   \n",
       "183067  RT RealPython List of Python API Wrappers gt g...  \n",
       "183068                            Watching Boa vs Python   \n",
       "183069  Чертова дюжина вакансий в IT и Digital Go разр...  \n",
       "\n",
       "[183070 rows x 4 columns]"
      ]
     },
     "execution_count": 9,
     "metadata": {},
     "output_type": "execute_result"
    }
   ],
   "source": [
    "df['txt'] = df.txt.str.replace(r'\\d+', ' ').str.replace(r'\\s+', ' ')\n",
    "df['tokens'] = df.txt.str.split()\n",
    "df"
   ]
  },
  {
   "cell_type": "markdown",
   "metadata": {},
   "source": [
    "Notice that we trounced the hashtag #Python  \n",
    "That's not good.  \n",
    "Can you fix it?  \n",
    "Anything else we might be messing up?  \n",
    "*what other punctuation marks have special meaning in Tweets*  "
   ]
  },
  {
   "cell_type": "code",
   "execution_count": 10,
   "metadata": {
    "collapsed": true
   },
   "outputs": [],
   "source": [
    "# improve on the \"stopword\" filters here\n",
    "#\n",
    "# :-) (ask me about a smilie lexicon)\n",
    "# not-so-simple words? (ask me about a regex for compound words)\n",
    "# python variables names with underscores? (regex)"
   ]
  },
  {
   "cell_type": "code",
   "execution_count": 11,
   "metadata": {
    "collapsed": false
   },
   "outputs": [],
   "source": [
    "f = os.path.join(DATA_PATH, 'text.csv.gz')\n",
    "df.to_csv(f, encoding='utf8', compression='gzip', quoting=pd.io.common.csv.QUOTE_NONNUMERIC)"
   ]
  },
  {
   "cell_type": "code",
   "execution_count": 12,
   "metadata": {
    "collapsed": false
   },
   "outputs": [],
   "source": [
    "import gzip\n",
    "with gzip.open(os.path.join(DATA_PATH, 'text.csv.gz'), 'rb') as f:\n",
    "    df = pd.read_csv(f)"
   ]
  },
  {
   "cell_type": "markdown",
   "metadata": {},
   "source": [
    "Make sure you can read it back in!"
   ]
  },
  {
   "cell_type": "code",
   "execution_count": 13,
   "metadata": {
    "collapsed": false
   },
   "outputs": [
    {
     "data": {
      "text/html": [
       "<div>\n",
       "<table border=\"1\" class=\"dataframe\">\n",
       "  <thead>\n",
       "    <tr style=\"text-align: right;\">\n",
       "      <th></th>\n",
       "      <th>id</th>\n",
       "      <th>text</th>\n",
       "      <th>tokens</th>\n",
       "      <th>txt</th>\n",
       "    </tr>\n",
       "  </thead>\n",
       "  <tbody>\n",
       "    <tr>\n",
       "      <th>0</th>\n",
       "      <td>724276510626979840</td>\n",
       "      <td>#python never stop learning what you enjoy doi...</td>\n",
       "      <td>['python', 'never', 'stop', 'learning', 'what'...</td>\n",
       "      <td>python never stop learning what you enjoy doing</td>\n",
       "    </tr>\n",
       "    <tr>\n",
       "      <th>1</th>\n",
       "      <td>724276498249572352</td>\n",
       "      <td>Watching Boa vs. Python — https://t.co/Pivpk02s2A</td>\n",
       "      <td>['Watching', 'Boa', 'vs', 'Python']</td>\n",
       "      <td>Watching Boa vs Python</td>\n",
       "    </tr>\n",
       "    <tr>\n",
       "      <th>2</th>\n",
       "      <td>724276388325412866</td>\n",
       "      <td>Monty Python - The silly walk https://t.co/C0J...</td>\n",
       "      <td>['Monty', 'Python', 'The', 'silly', 'walk', 'v...</td>\n",
       "      <td>Monty Python The silly walk via YouTube</td>\n",
       "    </tr>\n",
       "    <tr>\n",
       "      <th>3</th>\n",
       "      <td>725078887005347840</td>\n",
       "      <td>Senior Software Engineer Full Stack Python Dja...</td>\n",
       "      <td>['Senior', 'Software', 'Engineer', 'Full', 'St...</td>\n",
       "      <td>Senior Software Engineer Full Stack Python Dja...</td>\n",
       "    </tr>\n",
       "    <tr>\n",
       "      <th>4</th>\n",
       "      <td>725078874338541572</td>\n",
       "      <td>Architect Django Solr Platform Engineer With P...</td>\n",
       "      <td>['Architect', 'Django', 'Solr', 'Platform', 'E...</td>\n",
       "      <td>Architect Django Solr Platform Engineer With P...</td>\n",
       "    </tr>\n",
       "    <tr>\n",
       "      <th>5</th>\n",
       "      <td>725078868802068481</td>\n",
       "      <td>peaceful rain? Python - inevitability</td>\n",
       "      <td>['peaceful', 'rain', 'Python', 'inevitability']</td>\n",
       "      <td>peaceful rain Python inevitability</td>\n",
       "    </tr>\n",
       "    <tr>\n",
       "      <th>...</th>\n",
       "      <td>...</td>\n",
       "      <td>...</td>\n",
       "      <td>...</td>\n",
       "      <td>...</td>\n",
       "    </tr>\n",
       "    <tr>\n",
       "      <th>183064</th>\n",
       "      <td>724275847591546880</td>\n",
       "      <td>Las 3 mejores ides para Python Antes de empeza...</td>\n",
       "      <td>['Las', 'mejores', 'ides', 'para', 'Python', '...</td>\n",
       "      <td>Las mejores ides para Python Antes de empezar ...</td>\n",
       "    </tr>\n",
       "    <tr>\n",
       "      <th>183065</th>\n",
       "      <td>724275810777985026</td>\n",
       "      <td>Gagal tidur gegara habis vertical limit ada fi...</td>\n",
       "      <td>['Gagal', 'tidur', 'gegara', 'habis', 'vertica...</td>\n",
       "      <td>Gagal tidur gegara habis vertical limit ada fi...</td>\n",
       "    </tr>\n",
       "    <tr>\n",
       "      <th>183066</th>\n",
       "      <td>724275650043875328</td>\n",
       "      <td>Go boa wkwk💪😄 ★ Boa vs. Python — https://t.co/...</td>\n",
       "      <td>['Go', 'boa', 'wkwk', 'Boa', 'vs', 'Python']</td>\n",
       "      <td>Go boa wkwk Boa vs Python</td>\n",
       "    </tr>\n",
       "    <tr>\n",
       "      <th>183067</th>\n",
       "      <td>724275609858392066</td>\n",
       "      <td>RT @RealPython: List of Python API Wrappers &amp;g...</td>\n",
       "      <td>['RT', 'RealPython', 'List', 'of', 'Python', '...</td>\n",
       "      <td>RT RealPython List of Python API Wrappers gt g...</td>\n",
       "    </tr>\n",
       "    <tr>\n",
       "      <th>183068</th>\n",
       "      <td>724275578879111169</td>\n",
       "      <td>Watching Boa vs. Python — https://t.co/5THbrirfQO</td>\n",
       "      <td>['Watching', 'Boa', 'vs', 'Python']</td>\n",
       "      <td>Watching Boa vs Python</td>\n",
       "    </tr>\n",
       "    <tr>\n",
       "      <th>183069</th>\n",
       "      <td>724275568871673857</td>\n",
       "      <td>Чертова дюжина вакансий в IT и Digital /  / 1....</td>\n",
       "      <td>['Чертова', 'дюжина', 'вакансий', 'в', 'IT', '...</td>\n",
       "      <td>Чертова дюжина вакансий в IT и Digital Go разр...</td>\n",
       "    </tr>\n",
       "  </tbody>\n",
       "</table>\n",
       "<p>183070 rows × 4 columns</p>\n",
       "</div>"
      ],
      "text/plain": [
       "                        id                                               text  \\\n",
       "0       724276510626979840  #python never stop learning what you enjoy doi...   \n",
       "1       724276498249572352  Watching Boa vs. Python — https://t.co/Pivpk02s2A   \n",
       "2       724276388325412866  Monty Python - The silly walk https://t.co/C0J...   \n",
       "3       725078887005347840  Senior Software Engineer Full Stack Python Dja...   \n",
       "4       725078874338541572  Architect Django Solr Platform Engineer With P...   \n",
       "5       725078868802068481              peaceful rain? Python - inevitability   \n",
       "...                    ...                                                ...   \n",
       "183064  724275847591546880  Las 3 mejores ides para Python Antes de empeza...   \n",
       "183065  724275810777985026  Gagal tidur gegara habis vertical limit ada fi...   \n",
       "183066  724275650043875328  Go boa wkwk💪😄 ★ Boa vs. Python — https://t.co/...   \n",
       "183067  724275609858392066  RT @RealPython: List of Python API Wrappers &g...   \n",
       "183068  724275578879111169  Watching Boa vs. Python — https://t.co/5THbrirfQO   \n",
       "183069  724275568871673857  Чертова дюжина вакансий в IT и Digital /  / 1....   \n",
       "\n",
       "                                                   tokens  \\\n",
       "0       ['python', 'never', 'stop', 'learning', 'what'...   \n",
       "1                     ['Watching', 'Boa', 'vs', 'Python']   \n",
       "2       ['Monty', 'Python', 'The', 'silly', 'walk', 'v...   \n",
       "3       ['Senior', 'Software', 'Engineer', 'Full', 'St...   \n",
       "4       ['Architect', 'Django', 'Solr', 'Platform', 'E...   \n",
       "5         ['peaceful', 'rain', 'Python', 'inevitability']   \n",
       "...                                                   ...   \n",
       "183064  ['Las', 'mejores', 'ides', 'para', 'Python', '...   \n",
       "183065  ['Gagal', 'tidur', 'gegara', 'habis', 'vertica...   \n",
       "183066       ['Go', 'boa', 'wkwk', 'Boa', 'vs', 'Python']   \n",
       "183067  ['RT', 'RealPython', 'List', 'of', 'Python', '...   \n",
       "183068                ['Watching', 'Boa', 'vs', 'Python']   \n",
       "183069  ['Чертова', 'дюжина', 'вакансий', 'в', 'IT', '...   \n",
       "\n",
       "                                                      txt  \n",
       "0        python never stop learning what you enjoy doing   \n",
       "1                                 Watching Boa vs Python   \n",
       "2                 Monty Python The silly walk via YouTube  \n",
       "3       Senior Software Engineer Full Stack Python Dja...  \n",
       "4       Architect Django Solr Platform Engineer With P...  \n",
       "5                      peaceful rain Python inevitability  \n",
       "...                                                   ...  \n",
       "183064  Las mejores ides para Python Antes de empezar ...  \n",
       "183065  Gagal tidur gegara habis vertical limit ada fi...  \n",
       "183066                         Go boa wkwk Boa vs Python   \n",
       "183067  RT RealPython List of Python API Wrappers gt g...  \n",
       "183068                            Watching Boa vs Python   \n",
       "183069  Чертова дюжина вакансий в IT и Digital Go разр...  \n",
       "\n",
       "[183070 rows x 4 columns]"
      ]
     },
     "execution_count": 13,
     "metadata": {},
     "output_type": "execute_result"
    }
   ],
   "source": [
    "df = pd.DataFrame.from_csv(os.path.join(DATA_PATH, 'text.csv.gz'))\n",
    "df"
   ]
  },
  {
   "cell_type": "code",
   "execution_count": null,
   "metadata": {
    "collapsed": true
   },
   "outputs": [],
   "source": []
  }
 ],
 "metadata": {
  "kernelspec": {
   "display_name": "Python 3",
   "language": "python",
   "name": "python3"
  },
  "language_info": {
   "codemirror_mode": {
    "name": "ipython",
    "version": 3
   },
   "file_extension": ".py",
   "mimetype": "text/x-python",
   "name": "python",
   "nbconvert_exporter": "python",
   "pygments_lexer": "ipython3",
   "version": "3.5.1+"
  }
 },
 "nbformat": 4,
 "nbformat_minor": 0
}
